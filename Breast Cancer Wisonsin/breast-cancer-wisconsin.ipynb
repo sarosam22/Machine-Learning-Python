{
 "cells": [
  {
   "cell_type": "markdown",
   "metadata": {},
   "source": [
    "<h1>Wisonsin Breast Cancer Data - A supervised learning predictive analysis</h1>"
   ]
  },
  {
   "cell_type": "code",
   "execution_count": 2,
   "metadata": {},
   "outputs": [],
   "source": [
    "import numpy as np\n",
    "import pandas as pd\n",
    "import matplotlib.pyplot as plt\n",
    "import seaborn as sns\n",
    "\n",
    "%matplotlib inline"
   ]
  },
  {
   "cell_type": "markdown",
   "metadata": {},
   "source": [
    "<p>First let us import the dataset and inspect its samples and attributes</p>"
   ]
  },
  {
   "cell_type": "code",
   "execution_count": 3,
   "metadata": {},
   "outputs": [],
   "source": [
    "df = pd.read_csv('breast-cancer-wisconsin.csv')"
   ]
  },
  {
   "cell_type": "markdown",
   "metadata": {},
   "source": [
    "<p>We print a random sample of 10 observations to ascertain if the data was correctly imported</p>"
   ]
  },
  {
   "cell_type": "code",
   "execution_count": 137,
   "metadata": {},
   "outputs": [
    {
     "data": {
      "text/html": [
       "<div>\n",
       "<style scoped>\n",
       "    .dataframe tbody tr th:only-of-type {\n",
       "        vertical-align: middle;\n",
       "    }\n",
       "\n",
       "    .dataframe tbody tr th {\n",
       "        vertical-align: top;\n",
       "    }\n",
       "\n",
       "    .dataframe thead th {\n",
       "        text-align: right;\n",
       "    }\n",
       "</style>\n",
       "<table border=\"1\" class=\"dataframe\">\n",
       "  <thead>\n",
       "    <tr style=\"text-align: right;\">\n",
       "      <th></th>\n",
       "      <th>id</th>\n",
       "      <th>diagnosis</th>\n",
       "      <th>radius_mean</th>\n",
       "      <th>texture_mean</th>\n",
       "      <th>perimeter_mean</th>\n",
       "      <th>area_mean</th>\n",
       "      <th>smoothness_mean</th>\n",
       "      <th>compactness_mean</th>\n",
       "      <th>concavity_mean</th>\n",
       "      <th>concave points_mean</th>\n",
       "      <th>...</th>\n",
       "      <th>radius_worst</th>\n",
       "      <th>texture_worst</th>\n",
       "      <th>perimeter_worst</th>\n",
       "      <th>area_worst</th>\n",
       "      <th>smoothness_worst</th>\n",
       "      <th>compactness_worst</th>\n",
       "      <th>concavity_worst</th>\n",
       "      <th>concave points_worst</th>\n",
       "      <th>symmetry_worst</th>\n",
       "      <th>fractal_dimension_worst</th>\n",
       "    </tr>\n",
       "  </thead>\n",
       "  <tbody>\n",
       "    <tr>\n",
       "      <th>49</th>\n",
       "      <td>857156</td>\n",
       "      <td>B</td>\n",
       "      <td>13.490</td>\n",
       "      <td>22.30</td>\n",
       "      <td>86.91</td>\n",
       "      <td>561.0</td>\n",
       "      <td>0.08752</td>\n",
       "      <td>0.07698</td>\n",
       "      <td>0.04751</td>\n",
       "      <td>0.03384</td>\n",
       "      <td>...</td>\n",
       "      <td>15.150</td>\n",
       "      <td>31.82</td>\n",
       "      <td>99.00</td>\n",
       "      <td>698.8</td>\n",
       "      <td>0.11620</td>\n",
       "      <td>0.17110</td>\n",
       "      <td>0.22820</td>\n",
       "      <td>0.12820</td>\n",
       "      <td>0.2871</td>\n",
       "      <td>0.06917</td>\n",
       "    </tr>\n",
       "    <tr>\n",
       "      <th>568</th>\n",
       "      <td>92751</td>\n",
       "      <td>B</td>\n",
       "      <td>7.760</td>\n",
       "      <td>24.54</td>\n",
       "      <td>47.92</td>\n",
       "      <td>181.0</td>\n",
       "      <td>0.05263</td>\n",
       "      <td>0.04362</td>\n",
       "      <td>0.00000</td>\n",
       "      <td>0.00000</td>\n",
       "      <td>...</td>\n",
       "      <td>9.456</td>\n",
       "      <td>30.37</td>\n",
       "      <td>59.16</td>\n",
       "      <td>268.6</td>\n",
       "      <td>0.08996</td>\n",
       "      <td>0.06444</td>\n",
       "      <td>0.00000</td>\n",
       "      <td>0.00000</td>\n",
       "      <td>0.2871</td>\n",
       "      <td>0.07039</td>\n",
       "    </tr>\n",
       "    <tr>\n",
       "      <th>487</th>\n",
       "      <td>913505</td>\n",
       "      <td>M</td>\n",
       "      <td>19.440</td>\n",
       "      <td>18.82</td>\n",
       "      <td>128.10</td>\n",
       "      <td>1167.0</td>\n",
       "      <td>0.10890</td>\n",
       "      <td>0.14480</td>\n",
       "      <td>0.22560</td>\n",
       "      <td>0.11940</td>\n",
       "      <td>...</td>\n",
       "      <td>23.960</td>\n",
       "      <td>30.39</td>\n",
       "      <td>153.90</td>\n",
       "      <td>1740.0</td>\n",
       "      <td>0.15140</td>\n",
       "      <td>0.37250</td>\n",
       "      <td>0.59360</td>\n",
       "      <td>0.20600</td>\n",
       "      <td>0.3266</td>\n",
       "      <td>0.09009</td>\n",
       "    </tr>\n",
       "    <tr>\n",
       "      <th>98</th>\n",
       "      <td>862485</td>\n",
       "      <td>B</td>\n",
       "      <td>11.600</td>\n",
       "      <td>12.84</td>\n",
       "      <td>74.34</td>\n",
       "      <td>412.6</td>\n",
       "      <td>0.08983</td>\n",
       "      <td>0.07525</td>\n",
       "      <td>0.04196</td>\n",
       "      <td>0.03350</td>\n",
       "      <td>...</td>\n",
       "      <td>13.060</td>\n",
       "      <td>17.16</td>\n",
       "      <td>82.96</td>\n",
       "      <td>512.5</td>\n",
       "      <td>0.14310</td>\n",
       "      <td>0.18510</td>\n",
       "      <td>0.19220</td>\n",
       "      <td>0.08449</td>\n",
       "      <td>0.2772</td>\n",
       "      <td>0.08756</td>\n",
       "    </tr>\n",
       "    <tr>\n",
       "      <th>490</th>\n",
       "      <td>91376701</td>\n",
       "      <td>B</td>\n",
       "      <td>12.250</td>\n",
       "      <td>22.44</td>\n",
       "      <td>78.18</td>\n",
       "      <td>466.5</td>\n",
       "      <td>0.08192</td>\n",
       "      <td>0.05200</td>\n",
       "      <td>0.01714</td>\n",
       "      <td>0.01261</td>\n",
       "      <td>...</td>\n",
       "      <td>14.170</td>\n",
       "      <td>31.99</td>\n",
       "      <td>92.74</td>\n",
       "      <td>622.9</td>\n",
       "      <td>0.12560</td>\n",
       "      <td>0.18040</td>\n",
       "      <td>0.12300</td>\n",
       "      <td>0.06335</td>\n",
       "      <td>0.3100</td>\n",
       "      <td>0.08203</td>\n",
       "    </tr>\n",
       "    <tr>\n",
       "      <th>66</th>\n",
       "      <td>859464</td>\n",
       "      <td>B</td>\n",
       "      <td>9.465</td>\n",
       "      <td>21.01</td>\n",
       "      <td>60.11</td>\n",
       "      <td>269.4</td>\n",
       "      <td>0.10440</td>\n",
       "      <td>0.07773</td>\n",
       "      <td>0.02172</td>\n",
       "      <td>0.01504</td>\n",
       "      <td>...</td>\n",
       "      <td>10.410</td>\n",
       "      <td>31.56</td>\n",
       "      <td>67.03</td>\n",
       "      <td>330.7</td>\n",
       "      <td>0.15480</td>\n",
       "      <td>0.16640</td>\n",
       "      <td>0.09412</td>\n",
       "      <td>0.06517</td>\n",
       "      <td>0.2878</td>\n",
       "      <td>0.09211</td>\n",
       "    </tr>\n",
       "    <tr>\n",
       "      <th>268</th>\n",
       "      <td>8910506</td>\n",
       "      <td>B</td>\n",
       "      <td>12.870</td>\n",
       "      <td>16.21</td>\n",
       "      <td>82.38</td>\n",
       "      <td>512.2</td>\n",
       "      <td>0.09425</td>\n",
       "      <td>0.06219</td>\n",
       "      <td>0.03900</td>\n",
       "      <td>0.01615</td>\n",
       "      <td>...</td>\n",
       "      <td>13.900</td>\n",
       "      <td>23.64</td>\n",
       "      <td>89.27</td>\n",
       "      <td>597.5</td>\n",
       "      <td>0.12560</td>\n",
       "      <td>0.18080</td>\n",
       "      <td>0.19920</td>\n",
       "      <td>0.05780</td>\n",
       "      <td>0.3604</td>\n",
       "      <td>0.07062</td>\n",
       "    </tr>\n",
       "    <tr>\n",
       "      <th>454</th>\n",
       "      <td>911202</td>\n",
       "      <td>B</td>\n",
       "      <td>12.620</td>\n",
       "      <td>17.15</td>\n",
       "      <td>80.62</td>\n",
       "      <td>492.9</td>\n",
       "      <td>0.08583</td>\n",
       "      <td>0.05430</td>\n",
       "      <td>0.02966</td>\n",
       "      <td>0.02272</td>\n",
       "      <td>...</td>\n",
       "      <td>14.340</td>\n",
       "      <td>22.15</td>\n",
       "      <td>91.62</td>\n",
       "      <td>633.5</td>\n",
       "      <td>0.12250</td>\n",
       "      <td>0.15170</td>\n",
       "      <td>0.18870</td>\n",
       "      <td>0.09851</td>\n",
       "      <td>0.3270</td>\n",
       "      <td>0.07330</td>\n",
       "    </tr>\n",
       "    <tr>\n",
       "      <th>271</th>\n",
       "      <td>8910748</td>\n",
       "      <td>B</td>\n",
       "      <td>11.290</td>\n",
       "      <td>13.04</td>\n",
       "      <td>72.23</td>\n",
       "      <td>388.0</td>\n",
       "      <td>0.09834</td>\n",
       "      <td>0.07608</td>\n",
       "      <td>0.03265</td>\n",
       "      <td>0.02755</td>\n",
       "      <td>...</td>\n",
       "      <td>12.320</td>\n",
       "      <td>16.18</td>\n",
       "      <td>78.27</td>\n",
       "      <td>457.5</td>\n",
       "      <td>0.13580</td>\n",
       "      <td>0.15070</td>\n",
       "      <td>0.12750</td>\n",
       "      <td>0.08750</td>\n",
       "      <td>0.2733</td>\n",
       "      <td>0.08022</td>\n",
       "    </tr>\n",
       "    <tr>\n",
       "      <th>256</th>\n",
       "      <td>88649001</td>\n",
       "      <td>M</td>\n",
       "      <td>19.550</td>\n",
       "      <td>28.77</td>\n",
       "      <td>133.60</td>\n",
       "      <td>1207.0</td>\n",
       "      <td>0.09260</td>\n",
       "      <td>0.20630</td>\n",
       "      <td>0.17840</td>\n",
       "      <td>0.11440</td>\n",
       "      <td>...</td>\n",
       "      <td>25.050</td>\n",
       "      <td>36.27</td>\n",
       "      <td>178.60</td>\n",
       "      <td>1926.0</td>\n",
       "      <td>0.12810</td>\n",
       "      <td>0.53290</td>\n",
       "      <td>0.42510</td>\n",
       "      <td>0.19410</td>\n",
       "      <td>0.2818</td>\n",
       "      <td>0.10050</td>\n",
       "    </tr>\n",
       "  </tbody>\n",
       "</table>\n",
       "<p>10 rows × 32 columns</p>\n",
       "</div>"
      ],
      "text/plain": [
       "           id diagnosis  radius_mean  texture_mean  perimeter_mean  area_mean  \\\n",
       "49     857156         B       13.490         22.30           86.91      561.0   \n",
       "568     92751         B        7.760         24.54           47.92      181.0   \n",
       "487    913505         M       19.440         18.82          128.10     1167.0   \n",
       "98     862485         B       11.600         12.84           74.34      412.6   \n",
       "490  91376701         B       12.250         22.44           78.18      466.5   \n",
       "66     859464         B        9.465         21.01           60.11      269.4   \n",
       "268   8910506         B       12.870         16.21           82.38      512.2   \n",
       "454    911202         B       12.620         17.15           80.62      492.9   \n",
       "271   8910748         B       11.290         13.04           72.23      388.0   \n",
       "256  88649001         M       19.550         28.77          133.60     1207.0   \n",
       "\n",
       "     smoothness_mean  compactness_mean  concavity_mean  concave points_mean  \\\n",
       "49           0.08752           0.07698         0.04751              0.03384   \n",
       "568          0.05263           0.04362         0.00000              0.00000   \n",
       "487          0.10890           0.14480         0.22560              0.11940   \n",
       "98           0.08983           0.07525         0.04196              0.03350   \n",
       "490          0.08192           0.05200         0.01714              0.01261   \n",
       "66           0.10440           0.07773         0.02172              0.01504   \n",
       "268          0.09425           0.06219         0.03900              0.01615   \n",
       "454          0.08583           0.05430         0.02966              0.02272   \n",
       "271          0.09834           0.07608         0.03265              0.02755   \n",
       "256          0.09260           0.20630         0.17840              0.11440   \n",
       "\n",
       "              ...             radius_worst  texture_worst  perimeter_worst  \\\n",
       "49            ...                   15.150          31.82            99.00   \n",
       "568           ...                    9.456          30.37            59.16   \n",
       "487           ...                   23.960          30.39           153.90   \n",
       "98            ...                   13.060          17.16            82.96   \n",
       "490           ...                   14.170          31.99            92.74   \n",
       "66            ...                   10.410          31.56            67.03   \n",
       "268           ...                   13.900          23.64            89.27   \n",
       "454           ...                   14.340          22.15            91.62   \n",
       "271           ...                   12.320          16.18            78.27   \n",
       "256           ...                   25.050          36.27           178.60   \n",
       "\n",
       "     area_worst  smoothness_worst  compactness_worst  concavity_worst  \\\n",
       "49        698.8           0.11620            0.17110          0.22820   \n",
       "568       268.6           0.08996            0.06444          0.00000   \n",
       "487      1740.0           0.15140            0.37250          0.59360   \n",
       "98        512.5           0.14310            0.18510          0.19220   \n",
       "490       622.9           0.12560            0.18040          0.12300   \n",
       "66        330.7           0.15480            0.16640          0.09412   \n",
       "268       597.5           0.12560            0.18080          0.19920   \n",
       "454       633.5           0.12250            0.15170          0.18870   \n",
       "271       457.5           0.13580            0.15070          0.12750   \n",
       "256      1926.0           0.12810            0.53290          0.42510   \n",
       "\n",
       "     concave points_worst  symmetry_worst  fractal_dimension_worst  \n",
       "49                0.12820          0.2871                  0.06917  \n",
       "568               0.00000          0.2871                  0.07039  \n",
       "487               0.20600          0.3266                  0.09009  \n",
       "98                0.08449          0.2772                  0.08756  \n",
       "490               0.06335          0.3100                  0.08203  \n",
       "66                0.06517          0.2878                  0.09211  \n",
       "268               0.05780          0.3604                  0.07062  \n",
       "454               0.09851          0.3270                  0.07330  \n",
       "271               0.08750          0.2733                  0.08022  \n",
       "256               0.19410          0.2818                  0.10050  \n",
       "\n",
       "[10 rows x 32 columns]"
      ]
     },
     "execution_count": 137,
     "metadata": {},
     "output_type": "execute_result"
    }
   ],
   "source": [
    "df.sample(10)"
   ]
  },
  {
   "cell_type": "markdown",
   "metadata": {},
   "source": [
    "<h4>Dataset dimensions</h4>"
   ]
  },
  {
   "cell_type": "code",
   "execution_count": 5,
   "metadata": {},
   "outputs": [
    {
     "data": {
      "text/plain": [
       "(569, 32)"
      ]
     },
     "execution_count": 5,
     "metadata": {},
     "output_type": "execute_result"
    }
   ],
   "source": [
    "df.shape"
   ]
  },
  {
   "cell_type": "markdown",
   "metadata": {},
   "source": [
    "<p>As we can see, the dataset containes 569 observations with 32 attributes. Of these attributes we can see that three specific measurements of the tumors have been provided. The means of certain measurement attributes, mean, se and worst. For the purposes of this analysis, we will deal with the mean measurements of the tumors. This should give us 10 distinct different attributes that will act as predictors for our supervised learning models. The independent variable will be the type of cancer diagnosis viz. benign or malignant.</p>\n",
    "</br>\n",
    "<p>But before proceeding, we need to inspect our samples and generate appropriate summaries thereof. Let us start by gathering the non-null value counts and data types of each field in our dataset. These observations will lay the groundwork for any data wrangling that needs to be performed on the dataset.</p>"
   ]
  },
  {
   "cell_type": "code",
   "execution_count": null,
   "metadata": {},
   "outputs": [],
   "source": [
    "df.info()"
   ]
  },
  {
   "cell_type": "markdown",
   "metadata": {},
   "source": [
    "<p>As we see, the column datatypes are all that we expect them to be. The id column is the only integer column (this should be irrelevant for our purposes anyway!!!), \n",
    "the diagnosis column is of type object(string) and all of the other fields are floats. We also see that there are no NA or null values in the observation data and thus missing data problems do not need to be dealt with</p>"
   ]
  },
  {
   "cell_type": "code",
   "execution_count": 7,
   "metadata": {},
   "outputs": [
    {
     "data": {
      "text/html": [
       "<div>\n",
       "<style scoped>\n",
       "    .dataframe tbody tr th:only-of-type {\n",
       "        vertical-align: middle;\n",
       "    }\n",
       "\n",
       "    .dataframe tbody tr th {\n",
       "        vertical-align: top;\n",
       "    }\n",
       "\n",
       "    .dataframe thead th {\n",
       "        text-align: right;\n",
       "    }\n",
       "</style>\n",
       "<table border=\"1\" class=\"dataframe\">\n",
       "  <thead>\n",
       "    <tr style=\"text-align: right;\">\n",
       "      <th></th>\n",
       "      <th>id</th>\n",
       "      <th>radius_mean</th>\n",
       "      <th>texture_mean</th>\n",
       "      <th>perimeter_mean</th>\n",
       "      <th>area_mean</th>\n",
       "      <th>smoothness_mean</th>\n",
       "      <th>compactness_mean</th>\n",
       "      <th>concavity_mean</th>\n",
       "      <th>concave points_mean</th>\n",
       "      <th>symmetry_mean</th>\n",
       "      <th>...</th>\n",
       "      <th>radius_worst</th>\n",
       "      <th>texture_worst</th>\n",
       "      <th>perimeter_worst</th>\n",
       "      <th>area_worst</th>\n",
       "      <th>smoothness_worst</th>\n",
       "      <th>compactness_worst</th>\n",
       "      <th>concavity_worst</th>\n",
       "      <th>concave points_worst</th>\n",
       "      <th>symmetry_worst</th>\n",
       "      <th>fractal_dimension_worst</th>\n",
       "    </tr>\n",
       "  </thead>\n",
       "  <tbody>\n",
       "    <tr>\n",
       "      <th>count</th>\n",
       "      <td>5.690000e+02</td>\n",
       "      <td>569.000000</td>\n",
       "      <td>569.000000</td>\n",
       "      <td>569.000000</td>\n",
       "      <td>569.000000</td>\n",
       "      <td>569.000000</td>\n",
       "      <td>569.000000</td>\n",
       "      <td>569.000000</td>\n",
       "      <td>569.000000</td>\n",
       "      <td>569.000000</td>\n",
       "      <td>...</td>\n",
       "      <td>569.000000</td>\n",
       "      <td>569.000000</td>\n",
       "      <td>569.000000</td>\n",
       "      <td>569.000000</td>\n",
       "      <td>569.000000</td>\n",
       "      <td>569.000000</td>\n",
       "      <td>569.000000</td>\n",
       "      <td>569.000000</td>\n",
       "      <td>569.000000</td>\n",
       "      <td>569.000000</td>\n",
       "    </tr>\n",
       "    <tr>\n",
       "      <th>mean</th>\n",
       "      <td>3.037183e+07</td>\n",
       "      <td>14.127292</td>\n",
       "      <td>19.289649</td>\n",
       "      <td>91.969033</td>\n",
       "      <td>654.889104</td>\n",
       "      <td>0.096360</td>\n",
       "      <td>0.104341</td>\n",
       "      <td>0.088799</td>\n",
       "      <td>0.048919</td>\n",
       "      <td>0.181162</td>\n",
       "      <td>...</td>\n",
       "      <td>16.269190</td>\n",
       "      <td>25.677223</td>\n",
       "      <td>107.261213</td>\n",
       "      <td>880.583128</td>\n",
       "      <td>0.132369</td>\n",
       "      <td>0.254265</td>\n",
       "      <td>0.272188</td>\n",
       "      <td>0.114606</td>\n",
       "      <td>0.290076</td>\n",
       "      <td>0.083946</td>\n",
       "    </tr>\n",
       "    <tr>\n",
       "      <th>std</th>\n",
       "      <td>1.250206e+08</td>\n",
       "      <td>3.524049</td>\n",
       "      <td>4.301036</td>\n",
       "      <td>24.298981</td>\n",
       "      <td>351.914129</td>\n",
       "      <td>0.014064</td>\n",
       "      <td>0.052813</td>\n",
       "      <td>0.079720</td>\n",
       "      <td>0.038803</td>\n",
       "      <td>0.027414</td>\n",
       "      <td>...</td>\n",
       "      <td>4.833242</td>\n",
       "      <td>6.146258</td>\n",
       "      <td>33.602542</td>\n",
       "      <td>569.356993</td>\n",
       "      <td>0.022832</td>\n",
       "      <td>0.157336</td>\n",
       "      <td>0.208624</td>\n",
       "      <td>0.065732</td>\n",
       "      <td>0.061867</td>\n",
       "      <td>0.018061</td>\n",
       "    </tr>\n",
       "    <tr>\n",
       "      <th>min</th>\n",
       "      <td>8.670000e+03</td>\n",
       "      <td>6.981000</td>\n",
       "      <td>9.710000</td>\n",
       "      <td>43.790000</td>\n",
       "      <td>143.500000</td>\n",
       "      <td>0.052630</td>\n",
       "      <td>0.019380</td>\n",
       "      <td>0.000000</td>\n",
       "      <td>0.000000</td>\n",
       "      <td>0.106000</td>\n",
       "      <td>...</td>\n",
       "      <td>7.930000</td>\n",
       "      <td>12.020000</td>\n",
       "      <td>50.410000</td>\n",
       "      <td>185.200000</td>\n",
       "      <td>0.071170</td>\n",
       "      <td>0.027290</td>\n",
       "      <td>0.000000</td>\n",
       "      <td>0.000000</td>\n",
       "      <td>0.156500</td>\n",
       "      <td>0.055040</td>\n",
       "    </tr>\n",
       "    <tr>\n",
       "      <th>25%</th>\n",
       "      <td>8.692180e+05</td>\n",
       "      <td>11.700000</td>\n",
       "      <td>16.170000</td>\n",
       "      <td>75.170000</td>\n",
       "      <td>420.300000</td>\n",
       "      <td>0.086370</td>\n",
       "      <td>0.064920</td>\n",
       "      <td>0.029560</td>\n",
       "      <td>0.020310</td>\n",
       "      <td>0.161900</td>\n",
       "      <td>...</td>\n",
       "      <td>13.010000</td>\n",
       "      <td>21.080000</td>\n",
       "      <td>84.110000</td>\n",
       "      <td>515.300000</td>\n",
       "      <td>0.116600</td>\n",
       "      <td>0.147200</td>\n",
       "      <td>0.114500</td>\n",
       "      <td>0.064930</td>\n",
       "      <td>0.250400</td>\n",
       "      <td>0.071460</td>\n",
       "    </tr>\n",
       "    <tr>\n",
       "      <th>50%</th>\n",
       "      <td>9.060240e+05</td>\n",
       "      <td>13.370000</td>\n",
       "      <td>18.840000</td>\n",
       "      <td>86.240000</td>\n",
       "      <td>551.100000</td>\n",
       "      <td>0.095870</td>\n",
       "      <td>0.092630</td>\n",
       "      <td>0.061540</td>\n",
       "      <td>0.033500</td>\n",
       "      <td>0.179200</td>\n",
       "      <td>...</td>\n",
       "      <td>14.970000</td>\n",
       "      <td>25.410000</td>\n",
       "      <td>97.660000</td>\n",
       "      <td>686.500000</td>\n",
       "      <td>0.131300</td>\n",
       "      <td>0.211900</td>\n",
       "      <td>0.226700</td>\n",
       "      <td>0.099930</td>\n",
       "      <td>0.282200</td>\n",
       "      <td>0.080040</td>\n",
       "    </tr>\n",
       "    <tr>\n",
       "      <th>75%</th>\n",
       "      <td>8.813129e+06</td>\n",
       "      <td>15.780000</td>\n",
       "      <td>21.800000</td>\n",
       "      <td>104.100000</td>\n",
       "      <td>782.700000</td>\n",
       "      <td>0.105300</td>\n",
       "      <td>0.130400</td>\n",
       "      <td>0.130700</td>\n",
       "      <td>0.074000</td>\n",
       "      <td>0.195700</td>\n",
       "      <td>...</td>\n",
       "      <td>18.790000</td>\n",
       "      <td>29.720000</td>\n",
       "      <td>125.400000</td>\n",
       "      <td>1084.000000</td>\n",
       "      <td>0.146000</td>\n",
       "      <td>0.339100</td>\n",
       "      <td>0.382900</td>\n",
       "      <td>0.161400</td>\n",
       "      <td>0.317900</td>\n",
       "      <td>0.092080</td>\n",
       "    </tr>\n",
       "    <tr>\n",
       "      <th>max</th>\n",
       "      <td>9.113205e+08</td>\n",
       "      <td>28.110000</td>\n",
       "      <td>39.280000</td>\n",
       "      <td>188.500000</td>\n",
       "      <td>2501.000000</td>\n",
       "      <td>0.163400</td>\n",
       "      <td>0.345400</td>\n",
       "      <td>0.426800</td>\n",
       "      <td>0.201200</td>\n",
       "      <td>0.304000</td>\n",
       "      <td>...</td>\n",
       "      <td>36.040000</td>\n",
       "      <td>49.540000</td>\n",
       "      <td>251.200000</td>\n",
       "      <td>4254.000000</td>\n",
       "      <td>0.222600</td>\n",
       "      <td>1.058000</td>\n",
       "      <td>1.252000</td>\n",
       "      <td>0.291000</td>\n",
       "      <td>0.663800</td>\n",
       "      <td>0.207500</td>\n",
       "    </tr>\n",
       "  </tbody>\n",
       "</table>\n",
       "<p>8 rows × 31 columns</p>\n",
       "</div>"
      ],
      "text/plain": [
       "                 id  radius_mean  texture_mean  perimeter_mean    area_mean  \\\n",
       "count  5.690000e+02   569.000000    569.000000      569.000000   569.000000   \n",
       "mean   3.037183e+07    14.127292     19.289649       91.969033   654.889104   \n",
       "std    1.250206e+08     3.524049      4.301036       24.298981   351.914129   \n",
       "min    8.670000e+03     6.981000      9.710000       43.790000   143.500000   \n",
       "25%    8.692180e+05    11.700000     16.170000       75.170000   420.300000   \n",
       "50%    9.060240e+05    13.370000     18.840000       86.240000   551.100000   \n",
       "75%    8.813129e+06    15.780000     21.800000      104.100000   782.700000   \n",
       "max    9.113205e+08    28.110000     39.280000      188.500000  2501.000000   \n",
       "\n",
       "       smoothness_mean  compactness_mean  concavity_mean  concave points_mean  \\\n",
       "count       569.000000        569.000000      569.000000           569.000000   \n",
       "mean          0.096360          0.104341        0.088799             0.048919   \n",
       "std           0.014064          0.052813        0.079720             0.038803   \n",
       "min           0.052630          0.019380        0.000000             0.000000   \n",
       "25%           0.086370          0.064920        0.029560             0.020310   \n",
       "50%           0.095870          0.092630        0.061540             0.033500   \n",
       "75%           0.105300          0.130400        0.130700             0.074000   \n",
       "max           0.163400          0.345400        0.426800             0.201200   \n",
       "\n",
       "       symmetry_mean           ...             radius_worst  texture_worst  \\\n",
       "count     569.000000           ...               569.000000     569.000000   \n",
       "mean        0.181162           ...                16.269190      25.677223   \n",
       "std         0.027414           ...                 4.833242       6.146258   \n",
       "min         0.106000           ...                 7.930000      12.020000   \n",
       "25%         0.161900           ...                13.010000      21.080000   \n",
       "50%         0.179200           ...                14.970000      25.410000   \n",
       "75%         0.195700           ...                18.790000      29.720000   \n",
       "max         0.304000           ...                36.040000      49.540000   \n",
       "\n",
       "       perimeter_worst   area_worst  smoothness_worst  compactness_worst  \\\n",
       "count       569.000000   569.000000        569.000000         569.000000   \n",
       "mean        107.261213   880.583128          0.132369           0.254265   \n",
       "std          33.602542   569.356993          0.022832           0.157336   \n",
       "min          50.410000   185.200000          0.071170           0.027290   \n",
       "25%          84.110000   515.300000          0.116600           0.147200   \n",
       "50%          97.660000   686.500000          0.131300           0.211900   \n",
       "75%         125.400000  1084.000000          0.146000           0.339100   \n",
       "max         251.200000  4254.000000          0.222600           1.058000   \n",
       "\n",
       "       concavity_worst  concave points_worst  symmetry_worst  \\\n",
       "count       569.000000            569.000000      569.000000   \n",
       "mean          0.272188              0.114606        0.290076   \n",
       "std           0.208624              0.065732        0.061867   \n",
       "min           0.000000              0.000000        0.156500   \n",
       "25%           0.114500              0.064930        0.250400   \n",
       "50%           0.226700              0.099930        0.282200   \n",
       "75%           0.382900              0.161400        0.317900   \n",
       "max           1.252000              0.291000        0.663800   \n",
       "\n",
       "       fractal_dimension_worst  \n",
       "count               569.000000  \n",
       "mean                  0.083946  \n",
       "std                   0.018061  \n",
       "min                   0.055040  \n",
       "25%                   0.071460  \n",
       "50%                   0.080040  \n",
       "75%                   0.092080  \n",
       "max                   0.207500  \n",
       "\n",
       "[8 rows x 31 columns]"
      ]
     },
     "execution_count": 7,
     "metadata": {},
     "output_type": "execute_result"
    }
   ],
   "source": [
    "df.describe()"
   ]
  },
  {
   "cell_type": "markdown",
   "metadata": {},
   "source": [
    "<p>Next, we obtain summaries of the various int/float varibles (viz. the five point summary). Later revisions of the analysis will include plots for univariate and bivariate EDA. </p>"
   ]
  },
  {
   "cell_type": "code",
   "execution_count": 8,
   "metadata": {},
   "outputs": [
    {
     "data": {
      "text/plain": [
       "212"
      ]
     },
     "execution_count": 8,
     "metadata": {},
     "output_type": "execute_result"
    }
   ],
   "source": [
    "df[df['diagnosis']=='M']['id'].count()"
   ]
  },
  {
   "cell_type": "code",
   "execution_count": 9,
   "metadata": {},
   "outputs": [
    {
     "data": {
      "text/plain": [
       "357"
      ]
     },
     "execution_count": 9,
     "metadata": {},
     "output_type": "execute_result"
    }
   ],
   "source": [
    "df[df['diagnosis']=='B']['id'].count()"
   ]
  },
  {
   "cell_type": "markdown",
   "metadata": {},
   "source": [
    "<p>Within the observations, we notice that there are 212 instances where the tumor has been diagnosed to be \"Malignant\" and 357 instances where it is deemed to be \"Benign\".</p>"
   ]
  },
  {
   "cell_type": "code",
   "execution_count": 10,
   "metadata": {},
   "outputs": [],
   "source": [
    "y=df.iloc[:,[1]]"
   ]
  },
  {
   "cell_type": "markdown",
   "metadata": {},
   "source": [
    "<p>Now we move on to process of creating our dependent variable vector. We can extract it directly from the dataset as it lies at the ordinal position 2(column index 1).</p>"
   ]
  },
  {
   "cell_type": "code",
   "execution_count": 11,
   "metadata": {},
   "outputs": [],
   "source": [
    "y=pd.DataFrame(np.where(y['diagnosis']=='M',1,0), columns=['diagnosis'])"
   ]
  },
  {
   "cell_type": "markdown",
   "metadata": {},
   "source": [
    "<p>We now encode the string diagnosis into 0's and 1's. Thus we can deem our supervised learning problem as a binary classification problem. The encoding specifies \"Benign\" observations as 0 and \"Malignant\" observations as 1.</p>\n",
    "\n",
    "<p>Finally, we need to obtain our independent variable matrix. As discussed above, we are only considering the mean tumor measurments as our predictors and as such we need to subset our dataset to obtain the necessary columns.</p>"
   ]
  },
  {
   "cell_type": "code",
   "execution_count": 12,
   "metadata": {},
   "outputs": [],
   "source": [
    "X=df.iloc[:,1:12].drop(columns=['diagnosis'])"
   ]
  },
  {
   "cell_type": "markdown",
   "metadata": {},
   "source": [
    "<p>We view the first few observations of this subsetted data to confirm that it is OK for further processing</p>"
   ]
  },
  {
   "cell_type": "code",
   "execution_count": null,
   "metadata": {},
   "outputs": [],
   "source": [
    "X.head()"
   ]
  },
  {
   "cell_type": "markdown",
   "metadata": {},
   "source": [
    "<h2>Data Pre-processing</h2>"
   ]
  },
  {
   "cell_type": "code",
   "execution_count": 14,
   "metadata": {},
   "outputs": [],
   "source": [
    "from sklearn.model_selection import train_test_split\n",
    "from sklearn.preprocessing import StandardScaler"
   ]
  },
  {
   "cell_type": "markdown",
   "metadata": {},
   "source": [
    "<p>As a crucial step in our predictive analysis process, we need to standardise our variables to have 0 mean and unit standard deviation. This is necessary while fitting our models with different estimators as such standardisation is required for regularisation process. Any dimensionality reduction processes techniques  <b>must</b> also be performed on standardised data.</p>"
   ]
  },
  {
   "cell_type": "markdown",
   "metadata": {},
   "source": [
    "<p>The first stage of our data preprocessing phase will be splitting up the dataset into train and test observations. In line with traditional machine learning conventions, the models will be trained on the training set and will be evaluated on our test set observations.\n",
    "We In this process, we specify that the test set will be a quarter, in size, of the training set. This will be an accurate train to test ratio to accomodate for bias-variance tradeoff concerns.</p>"
   ]
  },
  {
   "cell_type": "code",
   "execution_count": 15,
   "metadata": {},
   "outputs": [],
   "source": [
    "X_train, X_test, y_train, y_test = train_test_split(X,y,test_size=0.25, random_state=0)"
   ]
  },
  {
   "cell_type": "markdown",
   "metadata": {},
   "source": [
    "<h4>Standardisation of variables</h4>\n",
    "<p>After our datasets have been prepared, we now move onto the standardisation of the variables. This will be done with the StandardScaler class imported from the sklearn.preprocessing module.</p>"
   ]
  },
  {
   "cell_type": "code",
   "execution_count": 16,
   "metadata": {},
   "outputs": [],
   "source": [
    "sc_X=StandardScaler()\n",
    "X_train = sc_X.fit_transform(X_train)\n",
    "X_test = sc_X.transform(X_test)"
   ]
  },
  {
   "cell_type": "markdown",
   "metadata": {},
   "source": [
    "<h2>Model Fitting</h2>"
   ]
  },
  {
   "cell_type": "markdown",
   "metadata": {},
   "source": [
    "<p>Now with our data prepared, we can move on to creating predictive models for our data. Since this is a binary classification problem we can consider traditional classification estimators such as logistic regression and Support Vector Machines. We....... </p>"
   ]
  },
  {
   "cell_type": "markdown",
   "metadata": {},
   "source": [
    "<h3>Logistic Regression</h3>"
   ]
  },
  {
   "cell_type": "markdown",
   "metadata": {},
   "source": [
    "<p>For this binary classification problem, the first model we will consider will be Logistic Regression Estimator. We will train the model, predict results from the test set and extract certain metrics to evaluate the performance of the model and understand the extent of the bias-variance tradeoff. We will then attempt to improve the model by fine-tuning the appropriate hyperparameters.</p>"
   ]
  },
  {
   "cell_type": "code",
   "execution_count": 17,
   "metadata": {},
   "outputs": [
    {
     "name": "stderr",
     "output_type": "stream",
     "text": [
      "C:\\Users\\Dell\\Anaconda3\\lib\\site-packages\\sklearn\\utils\\validation.py:578: DataConversionWarning: A column-vector y was passed when a 1d array was expected. Please change the shape of y to (n_samples, ), for example using ravel().\n",
      "  y = column_or_1d(y, warn=True)\n"
     ]
    },
    {
     "data": {
      "text/plain": [
       "array([2.55823842e-69, 8.37108067e-18, 8.19690935e-73, 1.48052645e-62,\n",
       "       1.27734112e-15, 9.49913611e-45, 1.45377554e-60, 8.98762428e-87,\n",
       "       3.44436651e-13, 6.30247708e-01])"
      ]
     },
     "execution_count": 17,
     "metadata": {},
     "output_type": "execute_result"
    }
   ],
   "source": [
    "from sklearn.feature_selection import f_classif\n",
    "p_val = f_classif(X_train,y_train)[1]\n",
    "p_val"
   ]
  },
  {
   "cell_type": "code",
   "execution_count": 18,
   "metadata": {},
   "outputs": [],
   "source": [
    "from sklearn.linear_model import LogisticRegression"
   ]
  },
  {
   "cell_type": "code",
   "execution_count": 19,
   "metadata": {
    "scrolled": false
   },
   "outputs": [
    {
     "name": "stderr",
     "output_type": "stream",
     "text": [
      "C:\\Users\\Dell\\Anaconda3\\lib\\site-packages\\sklearn\\utils\\validation.py:578: DataConversionWarning: A column-vector y was passed when a 1d array was expected. Please change the shape of y to (n_samples, ), for example using ravel().\n",
      "  y = column_or_1d(y, warn=True)\n"
     ]
    },
    {
     "data": {
      "text/plain": [
       "LogisticRegression(C=1.0, class_weight=None, dual=False, fit_intercept=True,\n",
       "          intercept_scaling=1, max_iter=100, multi_class='ovr', n_jobs=1,\n",
       "          penalty='l2', random_state=0, solver='liblinear', tol=0.0001,\n",
       "          verbose=0, warm_start=False)"
      ]
     },
     "execution_count": 19,
     "metadata": {},
     "output_type": "execute_result"
    }
   ],
   "source": [
    "mean_logit_classifier = LogisticRegression(random_state=0)\n",
    "mean_logit_classifier.fit(X_train, y_train)"
   ]
  },
  {
   "cell_type": "markdown",
   "metadata": {},
   "source": [
    "<p>Here, we have fitted the model against the training data.</p>"
   ]
  },
  {
   "cell_type": "markdown",
   "metadata": {},
   "source": [
    "<p>Let us find out the co-efficients of the logistic regression model</p>"
   ]
  },
  {
   "cell_type": "markdown",
   "metadata": {},
   "source": [
    "<p>Let us try to find the co-efficients for the predictors of the logistic regression model so fitted.</p>"
   ]
  },
  {
   "cell_type": "code",
   "execution_count": 20,
   "metadata": {},
   "outputs": [],
   "source": [
    "#Logit co-efficients\n",
    "predictors = X.columns\n",
    "coeffs = mean_logit_classifier.coef_[0]"
   ]
  },
  {
   "cell_type": "code",
   "execution_count": 35,
   "metadata": {},
   "outputs": [
    {
     "data": {
      "text/html": [
       "<div>\n",
       "<style scoped>\n",
       "    .dataframe tbody tr th:only-of-type {\n",
       "        vertical-align: middle;\n",
       "    }\n",
       "\n",
       "    .dataframe tbody tr th {\n",
       "        vertical-align: top;\n",
       "    }\n",
       "\n",
       "    .dataframe thead th {\n",
       "        text-align: right;\n",
       "    }\n",
       "</style>\n",
       "<table border=\"1\" class=\"dataframe\">\n",
       "  <thead>\n",
       "    <tr style=\"text-align: right;\">\n",
       "      <th></th>\n",
       "      <th>predictor</th>\n",
       "      <th>co-efficient</th>\n",
       "    </tr>\n",
       "  </thead>\n",
       "  <tbody>\n",
       "    <tr>\n",
       "      <th>0</th>\n",
       "      <td>radius_mean</td>\n",
       "      <td>1.010016</td>\n",
       "    </tr>\n",
       "    <tr>\n",
       "      <th>1</th>\n",
       "      <td>texture_mean</td>\n",
       "      <td>1.344157</td>\n",
       "    </tr>\n",
       "    <tr>\n",
       "      <th>2</th>\n",
       "      <td>perimeter_mean</td>\n",
       "      <td>0.933628</td>\n",
       "    </tr>\n",
       "    <tr>\n",
       "      <th>3</th>\n",
       "      <td>area_mean</td>\n",
       "      <td>1.178509</td>\n",
       "    </tr>\n",
       "    <tr>\n",
       "      <th>4</th>\n",
       "      <td>smoothness_mean</td>\n",
       "      <td>1.020748</td>\n",
       "    </tr>\n",
       "    <tr>\n",
       "      <th>5</th>\n",
       "      <td>compactness_mean</td>\n",
       "      <td>-0.021437</td>\n",
       "    </tr>\n",
       "    <tr>\n",
       "      <th>6</th>\n",
       "      <td>concavity_mean</td>\n",
       "      <td>0.775319</td>\n",
       "    </tr>\n",
       "    <tr>\n",
       "      <th>7</th>\n",
       "      <td>concave points_mean</td>\n",
       "      <td>1.464834</td>\n",
       "    </tr>\n",
       "    <tr>\n",
       "      <th>8</th>\n",
       "      <td>symmetry_mean</td>\n",
       "      <td>0.569714</td>\n",
       "    </tr>\n",
       "    <tr>\n",
       "      <th>9</th>\n",
       "      <td>fractal_dimension_mean</td>\n",
       "      <td>-0.482281</td>\n",
       "    </tr>\n",
       "  </tbody>\n",
       "</table>\n",
       "</div>"
      ],
      "text/plain": [
       "                predictor  co-efficient\n",
       "0             radius_mean      1.010016\n",
       "1            texture_mean      1.344157\n",
       "2          perimeter_mean      0.933628\n",
       "3               area_mean      1.178509\n",
       "4         smoothness_mean      1.020748\n",
       "5        compactness_mean     -0.021437\n",
       "6          concavity_mean      0.775319\n",
       "7     concave points_mean      1.464834\n",
       "8           symmetry_mean      0.569714\n",
       "9  fractal_dimension_mean     -0.482281"
      ]
     },
     "execution_count": 35,
     "metadata": {},
     "output_type": "execute_result"
    }
   ],
   "source": [
    "predictor_coefficients_logit = pd.DataFrame(columns=['predictor','co-efficient'])\n",
    "for i in range(len(predictors)):\n",
    "    predictor_coefficients_logit.loc[i]=[predictors[i], coeffs[i]]\n",
    "    \n",
    "predictor_coefficients_logit"
   ]
  },
  {
   "cell_type": "markdown",
   "metadata": {},
   "source": [
    "<p><b>Note:</b> Here we have defaulted to L2 regularisation while fitting the model. As the number of predictors is quite insignificant and feature selection/elimination is not quite as important for this analysis as evaluating model accuracy and improving it, we will not create L2 models explicitly. However, as a brief exercise we will train a LinearRegression model with an L2 penalty and understand the relative significance of the predictors. Let's do that briefly in the section below.</p>"
   ]
  },
  {
   "cell_type": "code",
   "execution_count": 144,
   "metadata": {},
   "outputs": [
    {
     "data": {
      "text/plain": [
       "LogisticRegression(C=1.0, class_weight=None, dual=False, fit_intercept=True,\n",
       "          intercept_scaling=1, max_iter=100, multi_class='ovr', n_jobs=1,\n",
       "          penalty='l1', random_state=0, solver='liblinear', tol=0.0001,\n",
       "          verbose=0, warm_start=False)"
      ]
     },
     "execution_count": 144,
     "metadata": {},
     "output_type": "execute_result"
    }
   ],
   "source": [
    "mean_logit_classifier_l2 = LogisticRegression(random_state=0, penalty='l1')\n",
    "mean_logit_classifier_l2.fit(X_train, y_train)"
   ]
  },
  {
   "cell_type": "code",
   "execution_count": 145,
   "metadata": {},
   "outputs": [
    {
     "data": {
      "text/html": [
       "<div>\n",
       "<style scoped>\n",
       "    .dataframe tbody tr th:only-of-type {\n",
       "        vertical-align: middle;\n",
       "    }\n",
       "\n",
       "    .dataframe tbody tr th {\n",
       "        vertical-align: top;\n",
       "    }\n",
       "\n",
       "    .dataframe thead th {\n",
       "        text-align: right;\n",
       "    }\n",
       "</style>\n",
       "<table border=\"1\" class=\"dataframe\">\n",
       "  <thead>\n",
       "    <tr style=\"text-align: right;\">\n",
       "      <th></th>\n",
       "      <th>predictor</th>\n",
       "      <th>co-efficient</th>\n",
       "    </tr>\n",
       "  </thead>\n",
       "  <tbody>\n",
       "    <tr>\n",
       "      <th>0</th>\n",
       "      <td>radius_mean</td>\n",
       "      <td>0.000000</td>\n",
       "    </tr>\n",
       "    <tr>\n",
       "      <th>1</th>\n",
       "      <td>texture_mean</td>\n",
       "      <td>1.363975</td>\n",
       "    </tr>\n",
       "    <tr>\n",
       "      <th>2</th>\n",
       "      <td>perimeter_mean</td>\n",
       "      <td>0.000000</td>\n",
       "    </tr>\n",
       "    <tr>\n",
       "      <th>3</th>\n",
       "      <td>area_mean</td>\n",
       "      <td>3.388673</td>\n",
       "    </tr>\n",
       "    <tr>\n",
       "      <th>4</th>\n",
       "      <td>smoothness_mean</td>\n",
       "      <td>0.855911</td>\n",
       "    </tr>\n",
       "    <tr>\n",
       "      <th>5</th>\n",
       "      <td>compactness_mean</td>\n",
       "      <td>0.000000</td>\n",
       "    </tr>\n",
       "    <tr>\n",
       "      <th>6</th>\n",
       "      <td>concavity_mean</td>\n",
       "      <td>0.320355</td>\n",
       "    </tr>\n",
       "    <tr>\n",
       "      <th>7</th>\n",
       "      <td>concave points_mean</td>\n",
       "      <td>2.081595</td>\n",
       "    </tr>\n",
       "    <tr>\n",
       "      <th>8</th>\n",
       "      <td>symmetry_mean</td>\n",
       "      <td>0.520325</td>\n",
       "    </tr>\n",
       "    <tr>\n",
       "      <th>9</th>\n",
       "      <td>fractal_dimension_mean</td>\n",
       "      <td>-0.241610</td>\n",
       "    </tr>\n",
       "  </tbody>\n",
       "</table>\n",
       "</div>"
      ],
      "text/plain": [
       "                predictor  co-efficient\n",
       "0             radius_mean      0.000000\n",
       "1            texture_mean      1.363975\n",
       "2          perimeter_mean      0.000000\n",
       "3               area_mean      3.388673\n",
       "4         smoothness_mean      0.855911\n",
       "5        compactness_mean      0.000000\n",
       "6          concavity_mean      0.320355\n",
       "7     concave points_mean      2.081595\n",
       "8           symmetry_mean      0.520325\n",
       "9  fractal_dimension_mean     -0.241610"
      ]
     },
     "execution_count": 145,
     "metadata": {},
     "output_type": "execute_result"
    }
   ],
   "source": [
    "#Logit co-efficients with l2 penalty\n",
    "predictors_l2 = X.columns\n",
    "coeffs_l2 = mean_logit_classifier_l2.coef_[0]\n",
    "\n",
    "predictor_coefficients_logit_l2 = pd.DataFrame(columns=['predictor','co-efficient'])\n",
    "for i in range(len(predictors_l2)):\n",
    "    predictor_coefficients_logit_l2.loc[i]=[predictors_l2[i], coeffs_l2[i]]\n",
    "    \n",
    "predictor_coefficients_logit_l2"
   ]
  },
  {
   "cell_type": "markdown",
   "metadata": {},
   "source": [
    "<h4>Prediction and model performance</h4>"
   ]
  },
  {
   "cell_type": "markdown",
   "metadata": {},
   "source": [
    "<p>Now we move on to the crucial aspect of our analysis. Evaluating the performance of the model and improving the accuracy of the test set predictions. This section will also include estimating if the model is overfitted and unlikely to perform well against a variety of test sets. To that end, we will implement k-fold cross validation and understand the performance of the model in more concrete terms.</p>"
   ]
  },
  {
   "cell_type": "markdown",
   "metadata": {},
   "source": [
    "<p>First, let's predict the test set results. Now here, the prediction threshold for binary classification is 0.5 and therefore we will get predicted value of 1 if the probability f maignancy predicted by the estimator is greater than 1. However, for such crucial examinations as the detection of malignancy in breast cancer cells, even a threshold of 0.5 may be too high. We will dig deeper into modifying this theshold, making predictions on the basis of this changed threshold and the implications thereof, later on in this analysis</p>"
   ]
  },
  {
   "cell_type": "code",
   "execution_count": 52,
   "metadata": {},
   "outputs": [],
   "source": [
    "y_pred_logit = mean_logit_classifier.predict(X_test)"
   ]
  },
  {
   "cell_type": "markdown",
   "metadata": {},
   "source": [
    "<p>Here are the first 10 prediction results of the estimator</p>"
   ]
  },
  {
   "cell_type": "code",
   "execution_count": 53,
   "metadata": {},
   "outputs": [
    {
     "data": {
      "text/plain": [
       "array([1, 0, 0, 0, 0, 0, 0, 0, 0, 0, 0, 0, 0, 0, 1, 1, 0, 1, 1, 1])"
      ]
     },
     "execution_count": 53,
     "metadata": {},
     "output_type": "execute_result"
    }
   ],
   "source": [
    "y_pred_logit[0:20]"
   ]
  },
  {
   "cell_type": "code",
   "execution_count": 24,
   "metadata": {},
   "outputs": [],
   "source": [
    "y_pred_prob = mean_logit_classifier.predict_proba(X_test)[:,1]"
   ]
  },
  {
   "cell_type": "markdown",
   "metadata": {},
   "source": [
    "<p>We also find out the actual probabilities </p>"
   ]
  },
  {
   "cell_type": "code",
   "execution_count": 25,
   "metadata": {},
   "outputs": [
    {
     "data": {
      "text/plain": [
       "array([8.70663573e-01, 1.50668821e-01, 8.87958890e-03, 6.35920359e-03,\n",
       "       1.51728565e-02, 2.76162846e-02, 3.92385943e-03, 6.02292943e-03,\n",
       "       3.30327592e-04, 5.42583994e-04, 3.63808472e-01, 3.78907969e-01,\n",
       "       2.22897446e-04, 4.13229871e-01, 7.58758773e-01, 9.68175637e-01,\n",
       "       1.67628654e-02, 9.99897673e-01, 9.99910813e-01, 9.99998108e-01])"
      ]
     },
     "execution_count": 25,
     "metadata": {},
     "output_type": "execute_result"
    }
   ],
   "source": [
    "y_pred_prob[0:20]"
   ]
  },
  {
   "cell_type": "code",
   "execution_count": 26,
   "metadata": {},
   "outputs": [],
   "source": [
    "from sklearn.metrics import confusion_matrix, accuracy_score, precision_score"
   ]
  },
  {
   "cell_type": "code",
   "execution_count": 27,
   "metadata": {},
   "outputs": [],
   "source": [
    "cm_logit_mean = confusion_matrix(y_test, y_pred)"
   ]
  },
  {
   "cell_type": "code",
   "execution_count": 28,
   "metadata": {},
   "outputs": [
    {
     "data": {
      "text/plain": [
       "array([[86,  4],\n",
       "       [ 5, 48]], dtype=int64)"
      ]
     },
     "execution_count": 28,
     "metadata": {},
     "output_type": "execute_result"
    }
   ],
   "source": [
    "cm_logit_mean"
   ]
  },
  {
   "cell_type": "code",
   "execution_count": 29,
   "metadata": {},
   "outputs": [
    {
     "data": {
      "text/plain": [
       "0.9370629370629371"
      ]
     },
     "execution_count": 29,
     "metadata": {},
     "output_type": "execute_result"
    }
   ],
   "source": [
    "accuracy_score_logit_mean = accuracy_score(y_test, y_pred)\n",
    "accuracy_score_logit_mean"
   ]
  },
  {
   "cell_type": "code",
   "execution_count": 30,
   "metadata": {},
   "outputs": [
    {
     "data": {
      "text/plain": [
       "0.6293706293706294"
      ]
     },
     "execution_count": 30,
     "metadata": {},
     "output_type": "execute_result"
    }
   ],
   "source": [
    "##Calculating the null accuracy\n",
    "null_accuracy_score = y_test[y_test['diagnosis']==0]['diagnosis'].count()/y_test['diagnosis'].count()\n",
    "null_accuracy_score"
   ]
  },
  {
   "cell_type": "code",
   "execution_count": 50,
   "metadata": {},
   "outputs": [
    {
     "name": "stdout",
     "output_type": "stream",
     "text": [
      "Accuracies of training folds are :[0.90697674 0.97674419 0.93023256 0.90697674 0.88372093 0.93023256\n",
      " 0.93023256 0.92857143 0.97619048 0.95121951]\n",
      "Mean accuracy after cross validation :0.9321097696026793\n"
     ]
    }
   ],
   "source": [
    "import warnings\n",
    "warnings.filterwarnings('ignore')\n",
    "\n",
    "from sklearn.model_selection import cross_val_score\n",
    "accuracies_logit_mean = cross_val_score(estimator=mean_logit_classifier, X=X_train, y=y_train, cv=10)\n",
    "print('Accuracies of training folds are :'+str(accuracies_logit_mean))\n",
    "print('Mean accuracy after cross validation :' +str(accuracies_logit_mean.mean()))"
   ]
  },
  {
   "cell_type": "code",
   "execution_count": 126,
   "metadata": {},
   "outputs": [
    {
     "data": {
      "image/png": "[encoded data removed]",
      "text/plain": [
       "<matplotlib.figure.Figure at 0x22d81add630>"
      ]
     },
     "metadata": {},
     "output_type": "display_data"
    }
   ],
   "source": [
    "from sklearn.metrics import roc_curve, roc_auc_score\n",
    "fpr, tpr, thresholds = roc_curve(y_test, y_pred_prob)\n",
    "plt.plot(fpr, tpr)\n",
    "plt.xlabel('False Positive rate')\n",
    "plt.ylabel('True Positive rate (sensitivity)')\n",
    "plt.show()\n"
   ]
  },
  {
   "cell_type": "code",
   "execution_count": 114,
   "metadata": {},
   "outputs": [
    {
     "data": {
      "text/plain": [
       "0.9861635220125786"
      ]
     },
     "execution_count": 114,
     "metadata": {},
     "output_type": "execute_result"
    }
   ],
   "source": [
    "area_under_roc_curve = roc_auc_score(y_test, y_pred_prob)\n",
    "area_under_roc_curve"
   ]
  },
  {
   "cell_type": "markdown",
   "metadata": {},
   "source": [
    "<h5>Hyperparameter optimisation for Logistic Regression Model</h5>"
   ]
  },
  {
   "cell_type": "code",
   "execution_count": 155,
   "metadata": {},
   "outputs": [],
   "source": [
    "C_value = np.arange(start=1, stop=20, step=1)"
   ]
  },
  {
   "cell_type": "code",
   "execution_count": 156,
   "metadata": {},
   "outputs": [],
   "source": [
    "scores_opt_logit=[]\n",
    "for i in C_value:\n",
    "    mean_logit_classifier_opt = LogisticRegression(C=i,random_state=0)\n",
    "    score_opt_logit = cross_val_score(estimator=mean_logit_classifier_opt, cv=10, X=X_train, y=y_train, scoring='accuracy')\n",
    "    scores_opt_logit.append(score_opt_logit.mean())"
   ]
  },
  {
   "cell_type": "code",
   "execution_count": 157,
   "metadata": {},
   "outputs": [
    {
     "data": {
      "image/png": "[encoded data removed]",
      "text/plain": [
       "<matplotlib.figure.Figure at 0x22d83c36908>"
      ]
     },
     "metadata": {},
     "output_type": "display_data"
    }
   ],
   "source": [
    "plt.plot(C_value,scores_opt_logit)\n",
    "plt.xlabel('C value')\n",
    "plt.ylabel('Mean accuracy of cv folds')\n",
    "plt.title('Mean accuracy of cv folds for different hyperparameter values of Logistic Regression')\n",
    "plt.show()"
   ]
  },
  {
   "cell_type": "markdown",
   "metadata": {},
   "source": [
    "<h3>SVM</h3>"
   ]
  },
  {
   "cell_type": "markdown",
   "metadata": {},
   "source": [
    "<h4>Linear Support Vector Classifier</h4>"
   ]
  },
  {
   "cell_type": "code",
   "execution_count": 70,
   "metadata": {},
   "outputs": [
    {
     "data": {
      "text/plain": [
       "SVC(C=1.0, cache_size=200, class_weight=None, coef0=0.0,\n",
       "  decision_function_shape='ovr', degree=3, gamma='auto', kernel='linear',\n",
       "  max_iter=-1, probability=False, random_state=0, shrinking=True,\n",
       "  tol=0.001, verbose=False)"
      ]
     },
     "execution_count": 70,
     "metadata": {},
     "output_type": "execute_result"
    }
   ],
   "source": [
    "from sklearn.svm import SVC\n",
    "mean_svm_linear_classifier = SVC(kernel='linear', random_state=0)\n",
    "mean_svm_linear_classifier.fit(X_train, y_train)"
   ]
  },
  {
   "cell_type": "code",
   "execution_count": 71,
   "metadata": {},
   "outputs": [],
   "source": [
    "y_pred_svm_linear = mean_svm_linear_classifier.predict(X_test)"
   ]
  },
  {
   "cell_type": "code",
   "execution_count": 72,
   "metadata": {},
   "outputs": [],
   "source": [
    "cm_svm_linear_mean = confusion_matrix(y_test, y_pred)"
   ]
  },
  {
   "cell_type": "code",
   "execution_count": 73,
   "metadata": {},
   "outputs": [
    {
     "data": {
      "text/plain": [
       "array([[85,  5],\n",
       "       [ 5, 48]], dtype=int64)"
      ]
     },
     "execution_count": 73,
     "metadata": {},
     "output_type": "execute_result"
    }
   ],
   "source": [
    "cm_svm_linear_mean"
   ]
  },
  {
   "cell_type": "code",
   "execution_count": 74,
   "metadata": {},
   "outputs": [
    {
     "data": {
      "text/plain": [
       "0.9300699300699301"
      ]
     },
     "execution_count": 74,
     "metadata": {},
     "output_type": "execute_result"
    }
   ],
   "source": [
    "accuracy_score_svm_linear_mean = accuracy_score(y_test, y_pred_svm_linear)\n",
    "accuracy_score_svm_linear_mean"
   ]
  },
  {
   "cell_type": "code",
   "execution_count": 75,
   "metadata": {},
   "outputs": [
    {
     "name": "stdout",
     "output_type": "stream",
     "text": [
      "Accuracies of training folds are :[0.90697674 0.95348837 0.95348837 0.93023256 0.88372093 0.93023256\n",
      " 0.93023256 0.92857143 0.97619048 0.92682927]\n",
      "Mean accuracy after cross validation :0.9319963266077844\n"
     ]
    }
   ],
   "source": [
    "import warnings\n",
    "warnings.filterwarnings('ignore')\n",
    "\n",
    "accuracies_svm_linear_mean = cross_val_score(estimator=mean_svm_linear_classifier, X=X_train, y=y_train, cv=10)\n",
    "print('Accuracies of training folds are :'+str(accuracies_svm_linear_mean))\n",
    "print('Mean accuracy after cross validation :' +str(accuracies_svm_linear_mean.mean()))"
   ]
  },
  {
   "cell_type": "markdown",
   "metadata": {},
   "source": [
    "<h4>Support Vector Classifier with Radial (Gaussian) Kernel</h4>"
   ]
  },
  {
   "cell_type": "code",
   "execution_count": 97,
   "metadata": {},
   "outputs": [
    {
     "data": {
      "text/plain": [
       "SVC(C=1.0, cache_size=200, class_weight=None, coef0=0.0,\n",
       "  decision_function_shape='ovr', degree=3, gamma='auto', kernel='rbf',\n",
       "  max_iter=-1, probability=False, random_state=0, shrinking=True,\n",
       "  tol=0.001, verbose=False)"
      ]
     },
     "execution_count": 97,
     "metadata": {},
     "output_type": "execute_result"
    }
   ],
   "source": [
    "mean_svm_radial_classifier = SVC(kernel='rbf', random_state=0)\n",
    "mean_svm_radial_classifier.fit(X_train, y_train)"
   ]
  },
  {
   "cell_type": "code",
   "execution_count": 98,
   "metadata": {},
   "outputs": [],
   "source": [
    "y_pred_svm_radial = mean_svm_radial_classifier.predict(X_test)"
   ]
  },
  {
   "cell_type": "code",
   "execution_count": 99,
   "metadata": {},
   "outputs": [],
   "source": [
    "cm_svm_radial_mean = confusion_matrix(y_test, y_pred_svm_radial, labels=[0,1])"
   ]
  },
  {
   "cell_type": "code",
   "execution_count": 100,
   "metadata": {},
   "outputs": [
    {
     "data": {
      "text/plain": [
       "array([[88,  2],\n",
       "       [ 5, 48]], dtype=int64)"
      ]
     },
     "execution_count": 100,
     "metadata": {},
     "output_type": "execute_result"
    }
   ],
   "source": [
    "cm_svm_radial_mean"
   ]
  },
  {
   "cell_type": "code",
   "execution_count": 101,
   "metadata": {},
   "outputs": [
    {
     "data": {
      "text/plain": [
       "0.951048951048951"
      ]
     },
     "execution_count": 101,
     "metadata": {},
     "output_type": "execute_result"
    }
   ],
   "source": [
    "accuracy_score_svm_radial_mean = accuracy_score(y_test, y_pred_svm_radial)\n",
    "accuracy_score_svm_radial_mean"
   ]
  },
  {
   "cell_type": "code",
   "execution_count": 102,
   "metadata": {},
   "outputs": [
    {
     "name": "stdout",
     "output_type": "stream",
     "text": [
      "Accuracies of training folds are :[0.90697674 0.93023256 0.97674419 0.93023256 0.90697674 0.95348837\n",
      " 0.93023256 0.95238095 1.         0.95121951]\n",
      "Mean accuracy after cross validation :0.9438484185506306\n"
     ]
    }
   ],
   "source": [
    "import warnings\n",
    "warnings.filterwarnings('ignore')\n",
    "\n",
    "accuracies_svm_radial_mean = cross_val_score(estimator=mean_svm_radial_classifier, X=X_train, y=y_train, cv=10)\n",
    "print('Accuracies of training folds are :'+str(accuracies_svm_radial_mean))\n",
    "print('Mean accuracy after cross validation :' +str(accuracies_svm_radial_mean.mean()))"
   ]
  },
  {
   "cell_type": "markdown",
   "metadata": {},
   "source": [
    "<h5>Hyperparameter optimisation for Gaussian Kernel SVM</h5>"
   ]
  },
  {
   "cell_type": "code",
   "execution_count": 146,
   "metadata": {},
   "outputs": [],
   "source": [
    "C_value = np.arange(start=1, stop=20, step=1)"
   ]
  },
  {
   "cell_type": "code",
   "execution_count": 147,
   "metadata": {},
   "outputs": [],
   "source": [
    "scores_opt=[]\n",
    "for i in C_value:\n",
    "    mean_svm_radial_classifier_opt = SVC(C=i, kernel='rbf', random_state=0)\n",
    "    score_opt = cross_val_score(estimator=mean_svm_radial_classifier_opt, cv=10, X=X_train, y=y_train, scoring='accuracy')\n",
    "    scores_opt.append(score_opt.mean())"
   ]
  },
  {
   "cell_type": "code",
   "execution_count": 148,
   "metadata": {
    "scrolled": true
   },
   "outputs": [
    {
     "data": {
      "image/png": "[encoded data removed]",
      "text/plain": [
       "<matplotlib.figure.Figure at 0x22d8394bdd8>"
      ]
     },
     "metadata": {},
     "output_type": "display_data"
    }
   ],
   "source": [
    "plt.plot(C_value,scores_opt)\n",
    "plt.xlabel('C value')\n",
    "plt.ylabel('Mean accuracy of cv folds')\n",
    "plt.title('Mean accuracy of cv folds for different hyperparameter values of Gaussian Kernel SVM')\n",
    "plt.show()"
   ]
  },
  {
   "cell_type": "code",
   "execution_count": null,
   "metadata": {},
   "outputs": [],
   "source": []
  }
 ],
 "metadata": {
  "kernelspec": {
   "display_name": "Python 3",
   "language": "python",
   "name": "python3"
  },
  "language_info": {
   "codemirror_mode": {
    "name": "ipython",
    "version": 3
   },
   "file_extension": ".py",
   "mimetype": "text/x-python",
   "name": "python",
   "nbconvert_exporter": "python",
   "pygments_lexer": "ipython3",
   "version": "3.6.4"
  }
 },
 "nbformat": 4,
 "nbformat_minor": 2
}
